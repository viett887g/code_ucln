{
  "nbformat": 4,
  "nbformat_minor": 0,
  "metadata": {
    "colab": {
      "name": "ucln.ipynb",
      "provenance": [],
      "authorship_tag": "ABX9TyNWFOcYLybb9W/zQebvyaB0",
      "include_colab_link": true
    },
    "kernelspec": {
      "name": "python3",
      "display_name": "Python 3"
    },
    "language_info": {
      "name": "python"
    }
  },
  "cells": [
    {
      "cell_type": "markdown",
      "metadata": {
        "id": "view-in-github",
        "colab_type": "text"
      },
      "source": [
        "<a href=\"https://colab.research.google.com/github/viett887g/code_ucln/blob/main/ucln.ipynb\" target=\"_parent\"><img src=\"https://colab.research.google.com/assets/colab-badge.svg\" alt=\"Open In Colab\"/></a>"
      ]
    },
    {
      "cell_type": "code",
      "source": [
        "def USCLN_2(a, b):\n",
        "    r = a % b\n",
        "    while r != 0:\n",
        "        a = b\n",
        "        b = r\n",
        "        r = a % b\n",
        "    return b\n",
        "a = int(input('Nhap vao so nguyen duong a = '))\n",
        "b = int(input('Nhao vao so nguyen duong b = '))\n",
        "print('Uoc so chung lon nhat cua a va b la: ', USCLN_2(a, b))"
      ],
      "metadata": {
        "colab": {
          "base_uri": "https://localhost:8080/"
        },
        "id": "UMLG9p_bOriY",
        "outputId": "269fc22b-da76-4324-efd2-532a72158acd"
      },
      "execution_count": null,
      "outputs": [
        {
          "output_type": "stream",
          "name": "stdout",
          "text": [
            "Nhap vao so nguyen duong a = 12\n",
            "Nhao vao so nguyen duong b = 15\n",
            "Uoc so chung lon nhat cua a va b la:  3\n"
          ]
        }
      ]
    }
  ]
}